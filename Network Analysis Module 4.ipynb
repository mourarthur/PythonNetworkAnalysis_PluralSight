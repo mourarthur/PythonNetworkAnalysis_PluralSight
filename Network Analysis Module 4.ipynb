{
 "cells": [
  {
   "cell_type": "code",
   "execution_count": 1,
   "metadata": {
    "slideshow": {
     "slide_type": "slide"
    }
   },
   "outputs": [
    {
     "name": "stdout",
     "output_type": "stream",
     "text": [
      "Requirement already satisfied: node2vec in c:\\users\\akroc\\anaconda3\\envs\\machinelearning\\lib\\site-packages (0.3.0)\n",
      "Requirement already satisfied: numpy in c:\\users\\akroc\\anaconda3\\envs\\machinelearning\\lib\\site-packages (from node2vec) (1.15.4)\n",
      "Requirement already satisfied: networkx in c:\\users\\akroc\\anaconda3\\envs\\machinelearning\\lib\\site-packages (from node2vec) (1.11)\n",
      "Requirement already satisfied: tqdm in c:\\users\\akroc\\anaconda3\\envs\\machinelearning\\lib\\site-packages (from node2vec) (4.31.1)\n",
      "Requirement already satisfied: joblib in c:\\users\\akroc\\anaconda3\\envs\\machinelearning\\lib\\site-packages (from node2vec) (0.13.2)\n",
      "Requirement already satisfied: gensim in c:\\users\\akroc\\anaconda3\\envs\\machinelearning\\lib\\site-packages (from node2vec) (3.7.1)\n",
      "Requirement already satisfied: decorator>=3.4.0 in c:\\users\\akroc\\anaconda3\\envs\\machinelearning\\lib\\site-packages (from networkx->node2vec) (4.3.0)\n",
      "Requirement already satisfied: scipy>=0.18.1 in c:\\users\\akroc\\anaconda3\\envs\\machinelearning\\lib\\site-packages (from gensim->node2vec) (1.2.0)\n",
      "Requirement already satisfied: smart-open>=1.7.0 in c:\\users\\akroc\\anaconda3\\envs\\machinelearning\\lib\\site-packages (from gensim->node2vec) (1.8.0)\n",
      "Requirement already satisfied: six>=1.5.0 in c:\\users\\akroc\\anaconda3\\envs\\machinelearning\\lib\\site-packages (from gensim->node2vec) (1.12.0)\n",
      "Requirement already satisfied: boto>=2.32 in c:\\users\\akroc\\anaconda3\\envs\\machinelearning\\lib\\site-packages (from smart-open>=1.7.0->gensim->node2vec) (2.49.0)\n",
      "Requirement already satisfied: boto3 in c:\\users\\akroc\\anaconda3\\envs\\machinelearning\\lib\\site-packages (from smart-open>=1.7.0->gensim->node2vec) (1.9.130)\n",
      "Requirement already satisfied: requests in c:\\users\\akroc\\anaconda3\\envs\\machinelearning\\lib\\site-packages (from smart-open>=1.7.0->gensim->node2vec) (2.21.0)\n",
      "Requirement already satisfied: bz2file in c:\\users\\akroc\\anaconda3\\envs\\machinelearning\\lib\\site-packages (from smart-open>=1.7.0->gensim->node2vec) (0.98)\n",
      "Requirement already satisfied: jmespath<1.0.0,>=0.7.1 in c:\\users\\akroc\\anaconda3\\envs\\machinelearning\\lib\\site-packages (from boto3->smart-open>=1.7.0->gensim->node2vec) (0.9.4)\n",
      "Requirement already satisfied: s3transfer<0.3.0,>=0.2.0 in c:\\users\\akroc\\anaconda3\\envs\\machinelearning\\lib\\site-packages (from boto3->smart-open>=1.7.0->gensim->node2vec) (0.2.0)\n",
      "Requirement already satisfied: botocore<1.13.0,>=1.12.130 in c:\\users\\akroc\\anaconda3\\envs\\machinelearning\\lib\\site-packages (from boto3->smart-open>=1.7.0->gensim->node2vec) (1.12.130)\n",
      "Requirement already satisfied: idna<2.9,>=2.5 in c:\\users\\akroc\\anaconda3\\envs\\machinelearning\\lib\\site-packages (from requests->smart-open>=1.7.0->gensim->node2vec) (2.8)\n",
      "Requirement already satisfied: certifi>=2017.4.17 in c:\\users\\akroc\\anaconda3\\envs\\machinelearning\\lib\\site-packages (from requests->smart-open>=1.7.0->gensim->node2vec) (2018.11.29)\n",
      "Requirement already satisfied: chardet<3.1.0,>=3.0.2 in c:\\users\\akroc\\anaconda3\\envs\\machinelearning\\lib\\site-packages (from requests->smart-open>=1.7.0->gensim->node2vec) (3.0.4)\n",
      "Requirement already satisfied: urllib3<1.25,>=1.21.1 in c:\\users\\akroc\\anaconda3\\envs\\machinelearning\\lib\\site-packages (from requests->smart-open>=1.7.0->gensim->node2vec) (1.24.1)\n",
      "Requirement already satisfied: docutils>=0.10 in c:\\users\\akroc\\anaconda3\\envs\\machinelearning\\lib\\site-packages (from botocore<1.13.0,>=1.12.130->boto3->smart-open>=1.7.0->gensim->node2vec) (0.14)\n",
      "Requirement already satisfied: python-dateutil<3.0.0,>=2.1; python_version >= \"2.7\" in c:\\users\\akroc\\anaconda3\\envs\\machinelearning\\lib\\site-packages (from botocore<1.13.0,>=1.12.130->boto3->smart-open>=1.7.0->gensim->node2vec) (2.7.5)\n"
     ]
    }
   ],
   "source": [
    "! pip install node2vec"
   ]
  },
  {
   "cell_type": "code",
   "execution_count": 2,
   "metadata": {
    "slideshow": {
     "slide_type": "slide"
    }
   },
   "outputs": [],
   "source": [
    "from node2vec import Node2Vec\n",
    "import networkx as nx\n",
    "\n",
    "import warnings\n",
    "warnings.filterwarnings(\"ignore\")"
   ]
  },
  {
   "cell_type": "code",
   "execution_count": 3,
   "metadata": {
    "slideshow": {
     "slide_type": "slide"
    }
   },
   "outputs": [
    {
     "name": "stdout",
     "output_type": "stream",
     "text": [
      "<?xml version='1.0' encoding='utf-8'?>\n",
      "<graphml xmlns=\"http://graphml.graphdrawing.org/xmlns\" xmlns:xsi=\"http://www.w3.org/2001/XMLSchema-instance\" xsi:schemaLocation=\"http://graphml.graphdrawing.org/xmlns http://graphml.graphdrawing.org/xmlns/1.0/graphml.xsd\">\n",
      "  <graph edgedefault=\"undirected\">\n",
      "    <node id=\"Alice\"></node>\n",
      "    <node id=\"Bob\"></node>\n",
      "    <node id=\"Carol\"></node>\n",
      "    <edge source=\"Alice\" target=\"Bob\"></edge>\n",
      "    <edge source=\"Alice\" target=\"Carol\"></edge>\n",
      "  </graph>\n",
      "</graphml>\n"
     ]
    }
   ],
   "source": [
    "friends = nx.read_graphml('friends.graphml')\n",
    "! type friends.graphml"
   ]
  },
  {
   "cell_type": "code",
   "execution_count": 4,
   "metadata": {
    "slideshow": {
     "slide_type": "slide"
    }
   },
   "outputs": [
    {
     "name": "stderr",
     "output_type": "stream",
     "text": [
      "Computing transition probabilities: 100%|██████████| 3/3 [00:00<?, ?it/s]\n",
      "Generating walks (CPU: 1): 100%|██████████| 10/10 [00:00<00:00, 110.67it/s]\n"
     ]
    }
   ],
   "source": [
    "model = Node2Vec(friends, dimensions=64, p=5, q=0.5) "
   ]
  },
  {
   "cell_type": "code",
   "execution_count": 5,
   "metadata": {
    "slideshow": {
     "slide_type": "slide"
    }
   },
   "outputs": [],
   "source": [
    "embeddings = model.fit()"
   ]
  },
  {
   "cell_type": "code",
   "execution_count": 6,
   "metadata": {
    "slideshow": {
     "slide_type": "slide"
    }
   },
   "outputs": [
    {
     "data": {
      "text/plain": [
       "array([ 0.16115557, -0.15659569,  0.01256689,  0.1418948 , -0.3731787 ,\n",
       "       -0.23565283, -0.15724353, -0.26539123,  0.05033476,  0.05111044,\n",
       "       -0.07653059, -0.06482142, -0.3489702 ,  0.00634636,  0.27113068,\n",
       "        0.11789129,  0.11200866,  0.0394633 , -0.17473231,  0.19352016,\n",
       "        0.06148715, -0.21825822, -0.05905364, -0.24423599, -0.10392205,\n",
       "       -0.23672588, -0.03305715, -0.12002031,  0.3862702 , -0.10117529,\n",
       "       -0.33940473,  0.2728619 , -0.12336966,  0.39560035,  0.10276661,\n",
       "       -0.0872618 ,  0.10612635, -0.11826703, -0.27522245,  0.15599346,\n",
       "       -0.28354806,  0.19710812, -0.15831926,  0.01542985, -0.10980387,\n",
       "       -0.00958293,  0.08608871,  0.2556208 ,  0.29919901, -0.10072912,\n",
       "        0.21294276,  0.01317528,  0.20531517, -0.3052011 , -0.45368588,\n",
       "       -0.14213628, -0.02725789, -0.0689039 , -0.24172501, -0.13692868,\n",
       "       -0.18827188,  0.10498454,  0.16478108, -0.16285202], dtype=float32)"
      ]
     },
     "execution_count": 6,
     "metadata": {},
     "output_type": "execute_result"
    }
   ],
   "source": [
    "embeddings['Alice']"
   ]
  },
  {
   "cell_type": "code",
   "execution_count": 7,
   "metadata": {
    "slideshow": {
     "slide_type": "slide"
    }
   },
   "outputs": [
    {
     "data": {
      "text/plain": [
       "array([ 0.12298252, -0.12207669,  0.01582686,  0.11467955, -0.28815404,\n",
       "       -0.17837009, -0.12164967, -0.21454811,  0.0329724 ,  0.03904595,\n",
       "       -0.05271801, -0.0540021 , -0.27144468, -0.00288519,  0.20527798,\n",
       "        0.09309413,  0.08952431,  0.02317651, -0.13264173,  0.14975172,\n",
       "        0.04059004, -0.17638701, -0.03923179, -0.18722855, -0.07409481,\n",
       "       -0.1824809 , -0.02209988, -0.09160227,  0.30394226, -0.07685035,\n",
       "       -0.26239085,  0.20999509, -0.10114497,  0.30486834,  0.070985  ,\n",
       "       -0.06062865,  0.08258586, -0.08366278, -0.21418352,  0.11587171,\n",
       "       -0.2216022 ,  0.15244699, -0.11879244,  0.01513251, -0.09124337,\n",
       "       -0.00257151,  0.06335251,  0.20423308,  0.23071754, -0.07447185,\n",
       "        0.15922159,  0.00993546,  0.1591801 , -0.23836493, -0.35257882,\n",
       "       -0.1037586 , -0.02629145, -0.04925453, -0.1861789 , -0.10169501,\n",
       "       -0.15474331,  0.07382924,  0.12237765, -0.12847117], dtype=float32)"
      ]
     },
     "execution_count": 7,
     "metadata": {},
     "output_type": "execute_result"
    }
   ],
   "source": [
    "(embeddings['Bob'] + embeddings['Carol'])/2"
   ]
  }
 ],
 "metadata": {
  "celltoolbar": "Slideshow",
  "kernelspec": {
   "display_name": "Python 3",
   "language": "python",
   "name": "python3"
  },
  "language_info": {
   "codemirror_mode": {
    "name": "ipython",
    "version": 3
   },
   "file_extension": ".py",
   "mimetype": "text/x-python",
   "name": "python",
   "nbconvert_exporter": "python",
   "pygments_lexer": "ipython3",
   "version": "3.7.6"
  }
 },
 "nbformat": 4,
 "nbformat_minor": 4
}
